{
 "cells": [
  {
   "cell_type": "code",
   "execution_count": 7,
   "id": "b5c99505-4994-462f-b8d8-8e86972677ae",
   "metadata": {},
   "outputs": [],
   "source": [
    "import sqlite3\n",
    "from flask import g\n",
    "\n",
    "DATABASE = 'expenses.db'\n",
    "\n",
    "def get_db():\n",
    "    db = getattr(g, '_database', None)\n",
    "    if db is None:\n",
    "        db = g._database = sqlite3.connect(DATABASE)\n",
    "    return db\n",
    "\n",
    "def query_db(query, args=(), one=False):\n",
    "    cur = get_db().execute(query, args)\n",
    "    rv = cur.fetchall()\n",
    "    cur.close()\n",
    "    return (rv[0] if rv else None) if one else rv\n",
    "\n",
    "def init_db():\n",
    "    db = get_db()\n",
    "    with open('schema.sql', mode='r') as f:\n",
    "        db.cursor().executescript(f.read())\n",
    "    db.commit()\n",
    "\n",
    "def close_connection():\n",
    "    db = getattr(g, '_database', None)\n",
    "    if db is not None:\n",
    "        db.close()"
   ]
  }
 ],
 "metadata": {
  "kernelspec": {
   "display_name": "Python 3 (ipykernel)",
   "language": "python",
   "name": "python3"
  },
  "language_info": {
   "codemirror_mode": {
    "name": "ipython",
    "version": 3
   },
   "file_extension": ".py",
   "mimetype": "text/x-python",
   "name": "python",
   "nbconvert_exporter": "python",
   "pygments_lexer": "ipython3",
   "version": "3.11.9"
  }
 },
 "nbformat": 4,
 "nbformat_minor": 5
}
