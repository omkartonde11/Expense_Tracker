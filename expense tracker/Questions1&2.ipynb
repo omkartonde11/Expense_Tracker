{
 "cells": [
  {
   "cell_type": "markdown",
   "id": "ad53af40-7790-4cf8-8963-ee2acdacf351",
   "metadata": {},
   "source": [
    "Question 1"
   ]
  },
  {
   "cell_type": "code",
   "execution_count": 17,
   "id": "0ebc133f-5774-44b7-bee1-47213299a12a",
   "metadata": {},
   "outputs": [
    {
     "name": "stdout",
     "output_type": "stream",
     "text": [
      "4\n"
     ]
    }
   ],
   "source": [
    "def min_containers_dp(shipments, container_limits):\n",
    "    n = len(shipments)\n",
    "    m = len(container_limits)\n",
    "    \n",
    "    dp = [float('inf')] * (sum(container_limits) + 1)\n",
    "    dp[0] = 0\n",
    "    \n",
    "    for container in container_limits:\n",
    "        for i in range(len(dp) - container, -1, -1):\n",
    "            if dp[i] != float('inf'):\n",
    "                dp[i + container] = min(dp[i + container], dp[i] + 1)\n",
    "    \n",
    "    total_units = sum(shipments)\n",
    "    return dp[total_units] if dp[total_units] != float('inf') else -1\n",
    "\n",
    "shipments = [10, 20, 30]\n",
    "container_limits = [15, 15, 20, 10]\n",
    "print(min_containers_dp(shipments, container_limits))"
   ]
  },
  {
   "cell_type": "markdown",
   "id": "a340f210-ac17-4da5-a0ca-a2f4241c2cde",
   "metadata": {},
   "source": [
    "Question 2"
   ]
  },
  {
   "cell_type": "code",
   "execution_count": 21,
   "id": "34e040ce-248b-47b5-a2f1-765bae782952",
   "metadata": {},
   "outputs": [],
   "source": [
    "class ListNode:\n",
    "    def __init__(self, val=0, next=None):\n",
    "        self.val = val\n",
    "        self.next = next\n",
    "\n",
    "def hasCycle(head):\n",
    "    if not head:\n",
    "        return False\n",
    "    \n",
    "    prev = None\n",
    "    current = head\n",
    "    \n",
    "    while current:\n",
    "        next_node = current.next\n",
    "        current.next = prev\n",
    "        prev = current\n",
    "        current = next_node\n",
    "        \n",
    "        if current == head: \n",
    "            return True\n",
    "    \n",
    "    while current:\n",
    "        next_node = current.next\n",
    "        current.next = prev\n",
    "        prev = current\n",
    "        current = next_node\n",
    "    \n",
    "    return False"
   ]
  },
  {
   "cell_type": "code",
   "execution_count": 19,
   "id": "29600561-6997-421d-bccd-25208abdd82c",
   "metadata": {},
   "outputs": [
    {
     "name": "stdout",
     "output_type": "stream",
     "text": [
      "True\n"
     ]
    }
   ],
   "source": [
    "node1 = ListNode(45)\n",
    "node2 = ListNode(50)\n",
    "node3 = ListNode(55)\n",
    "node4 = ListNode(60)\n",
    "node5 = ListNode(65)\n",
    "node1.next = node2\n",
    "node2.next = node3\n",
    "node3.next = node4\n",
    "node4.next = node5\n",
    "node5.next = node3  \n",
    "\n",
    "print(hasCycle(node1))"
   ]
  },
  {
   "cell_type": "code",
   "execution_count": 7,
   "id": "ab609943-2b3e-4b40-936f-fabee2effd77",
   "metadata": {},
   "outputs": [
    {
     "name": "stdout",
     "output_type": "stream",
     "text": [
      "False\n"
     ]
    }
   ],
   "source": [
    "node1 = ListNode(6)\n",
    "node2 = ListNode(4)\n",
    "node3 = ListNode(2)\n",
    "node4 = ListNode(8)\n",
    "node1.next = node2\n",
    "node2.next = node3\n",
    "node3.next = node4\n",
    "\n",
    "print(hasCycle(node1))"
   ]
  }
 ],
 "metadata": {
  "kernelspec": {
   "display_name": "Python 3 (ipykernel)",
   "language": "python",
   "name": "python3"
  },
  "language_info": {
   "codemirror_mode": {
    "name": "ipython",
    "version": 3
   },
   "file_extension": ".py",
   "mimetype": "text/x-python",
   "name": "python",
   "nbconvert_exporter": "python",
   "pygments_lexer": "ipython3",
   "version": "3.11.9"
  }
 },
 "nbformat": 4,
 "nbformat_minor": 5
}
