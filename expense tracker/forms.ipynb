{
 "cells": [
  {
   "cell_type": "code",
   "execution_count": 7,
   "id": "820c31e4-ef0b-4908-b43d-fe82db44c37f",
   "metadata": {},
   "outputs": [],
   "source": [
    "from flask_wtf import FlaskForm\n",
    "from wtforms import StringField, PasswordField, SubmitField, FloatField, TextAreaField\n",
    "from wtforms.validators import DataRequired, Email, EqualTo, Length\n",
    "\n",
    "class SignUpForm(FlaskForm):\n",
    "    username = StringField('Username', validators=[DataRequired(), Length(min=2, max=20)])\n",
    "    email = StringField('Email', validators=[DataRequired(), Email()])\n",
    "    password = PasswordField('Password', validators=[DataRequired(), Length(min=6)])\n",
    "    confirm_password = PasswordField('Confirm Password', validators=[DataRequired(), EqualTo('password')])\n",
    "    submit = SubmitField('Sign Up')\n",
    "\n",
    "class LoginForm(FlaskForm):\n",
    "    email = StringField('Email', validators=[DataRequired(), Email()])\n",
    "    password = PasswordField('Password', validators=[DataRequired()])\n",
    "    submit = SubmitField('Login')\n",
    "\n",
    "class ExpenseForm(FlaskForm):\n",
    "    category = StringField('Category', validators=[DataRequired()])\n",
    "    amount = FloatField('Amount', validators=[DataRequired()])\n",
    "    comments = TextAreaField('Comments')\n",
    "    submit = SubmitField('Add/Update Expense')"
   ]
  },
  {
   "cell_type": "code",
   "execution_count": null,
   "id": "ff513758-d830-47ff-8450-edacc078ff13",
   "metadata": {},
   "outputs": [],
   "source": []
  }
 ],
 "metadata": {
  "kernelspec": {
   "display_name": "Python 3 (ipykernel)",
   "language": "python",
   "name": "python3"
  },
  "language_info": {
   "codemirror_mode": {
    "name": "ipython",
    "version": 3
   },
   "file_extension": ".py",
   "mimetype": "text/x-python",
   "name": "python",
   "nbconvert_exporter": "python",
   "pygments_lexer": "ipython3",
   "version": "3.11.9"
  }
 },
 "nbformat": 4,
 "nbformat_minor": 5
}
